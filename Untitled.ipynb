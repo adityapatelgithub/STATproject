{
 "cells": [
  {
   "cell_type": "code",
   "execution_count": 57,
   "metadata": {},
   "outputs": [],
   "source": [
    "from sklearn.cluster import KMeans\n",
    "from sklearn.mixture import GaussianMixture\n",
    "from sklearn.metrics.cluster import adjusted_rand_score\n",
    "from sklearn.decomposition import PCA\n",
    "import numpy as np\n",
    "from matplotlib import pyplot as plt"
   ]
  },
  {
   "cell_type": "code",
   "execution_count": 8,
   "metadata": {},
   "outputs": [
    {
     "name": "stdout",
     "output_type": "stream",
     "text": [
      "683\n"
     ]
    }
   ],
   "source": [
    "# loading\n",
    "\n",
    "fp = open('breast-cancer-wisconsin.data', 'r').readlines()\n",
    "x = []\n",
    "y = []\n",
    "for i in fp:\n",
    "    data = i.split(',')\n",
    "    if ('?' not in data):  # there are missing values\n",
    "        x.append(list(map(int, data[1:10]))) # don't include id [0] and label [10]\n",
    "        y.append(int(data[10].strip('\\n'))) \n",
    "print(len(x))"
   ]
  },
  {
   "cell_type": "code",
   "execution_count": 39,
   "metadata": {},
   "outputs": [
    {
     "name": "stdout",
     "output_type": "stream",
     "text": [
      "0.8464675664733539\n",
      "0.8464675664733539\n",
      "0.8464675664733539\n",
      "0.8464675664733539\n",
      "0.8464675664733539\n",
      "0.8464675664733539\n",
      "0.8464675664733539\n",
      "0.8464675664733539\n",
      "0.8464675664733539\n",
      "0.8464675664733539\n"
     ]
    }
   ],
   "source": [
    "x = np.array(x)\n",
    "y = np.array(y)\n",
    "for i in range(10):\n",
    "    kmeans = KMeans(n_clusters=2, init = 'random', random_state=i).fit(x) # init = random means KMeans with random initialization\n",
    "    print(adjusted_rand_score(labels_true = y, labels_pred = kmeans.labels_))\n"
   ]
  },
  {
   "cell_type": "code",
   "execution_count": 40,
   "metadata": {},
   "outputs": [
    {
     "name": "stdout",
     "output_type": "stream",
     "text": [
      "0.5678666430828794\n",
      "0.5678666430828794\n",
      "0.5678666430828794\n",
      "0.5678666430828794\n",
      "0.5678666430828794\n",
      "0.5678666430828794\n",
      "0.5678666430828794\n",
      "0.5678666430828794\n",
      "0.5678666430828794\n",
      "0.5678666430828794\n"
     ]
    }
   ],
   "source": [
    "for i in range(10):\n",
    "    gaussian = GaussianMixture(n_components=2, covariance_type='full', tol=0.001, reg_covar=1e-06, max_iter=100, n_init=1, init_params='kmeans', random_state=i).fit(x)\n",
    "    print(adjusted_rand_score(labels_true = y, labels_pred = gaussian.predict(x)))\n",
    "\n",
    "\n",
    "\n",
    "\n"
   ]
  },
  {
   "cell_type": "code",
   "execution_count": 46,
   "metadata": {},
   "outputs": [
    {
     "name": "stdout",
     "output_type": "stream",
     "text": [
      "[[-4.48210185  0.02402335]\n",
      " [ 4.81965073 -4.73973426]\n",
      " [-4.63295991 -0.609533  ]\n",
      " ...\n",
      " [10.26058339  7.27245094]\n",
      " [ 6.40116473  2.4997811 ]\n",
      " [ 7.50116539  1.2122419 ]]\n"
     ]
    }
   ],
   "source": [
    "pca = PCA(n_components=2).fit(x)\n",
    "x_pca = pca.transform(x)\n",
    "print(x_pca)"
   ]
  },
  {
   "cell_type": "code",
   "execution_count": 47,
   "metadata": {},
   "outputs": [
    {
     "name": "stdout",
     "output_type": "stream",
     "text": [
      "0.8464675664733539\n",
      "0.8464675664733539\n",
      "0.8464675664733539\n",
      "0.8464675664733539\n",
      "0.8464675664733539\n",
      "0.8464675664733539\n",
      "0.8464675664733539\n",
      "0.8464675664733539\n",
      "0.8464675664733539\n",
      "0.8464675664733539\n"
     ]
    }
   ],
   "source": [
    "for i in range(10):\n",
    "    kmeans = KMeans(n_clusters=2, init = 'random', random_state=i).fit(x_pca) # init = random means KMeans with random initialization\n",
    "    #print(kmeans.cluster_centers_)\n",
    "    print(adjusted_rand_score(labels_true = y, labels_pred = kmeans.labels_))"
   ]
  },
  {
   "cell_type": "code",
   "execution_count": 48,
   "metadata": {},
   "outputs": [
    {
     "name": "stdout",
     "output_type": "stream",
     "text": [
      "0.6406012806038961\n",
      "0.6406012806038961\n",
      "0.6406012806038961\n",
      "0.6406012806038961\n",
      "0.6406012806038961\n",
      "0.6406012806038961\n",
      "0.6406012806038961\n",
      "0.6406012806038961\n",
      "0.6406012806038961\n",
      "0.6406012806038961\n"
     ]
    }
   ],
   "source": [
    "for i in range(10):\n",
    "    gaussian = GaussianMixture(n_components=2, covariance_type='full', tol=0.001, reg_covar=1e-06, max_iter=100, n_init=1, init_params='kmeans', random_state=i).fit(x_pca)\n",
    "    #print(gaussian.predict(x))\n",
    "    print(adjusted_rand_score(labels_true = y, labels_pred = gaussian.predict(x_pca)))"
   ]
  },
  {
   "cell_type": "code",
   "execution_count": 64,
   "metadata": {},
   "outputs": [
    {
     "data": {
      "image/png": "[encoded data removed]",
      "text/plain": [
       "<Figure size 432x288 with 1 Axes>"
      ]
     },
     "metadata": {},
     "output_type": "display_data"
    }
   ],
   "source": [
    "# PCA plot for true data. red = label 2, blue = label 4\n",
    "x_pca_1 = np.array([x_pca[i] for i in range(len(x_pca)) if y[i] == 2])\n",
    "x_pca_2 = np.array([x_pca[i] for i in range(len(x_pca)) if y[i] == 4])\n",
    "plt.scatter([x_pca_1[i][0] for i in range(len(x_pca_1))], [x_pca_1[i][1] for i in range(len(x_pca_1))], color = 'red')\n",
    "plt.scatter([x_pca_2[i][0] for i in range(len(x_pca_2))], [x_pca_2[i][1] for i in range(len(x_pca_2))], color = 'blue')\n",
    "plt.show()"
   ]
  },
  {
   "cell_type": "code",
   "execution_count": null,
   "metadata": {},
   "outputs": [],
   "source": []
  }
 ],
 "metadata": {
  "kernelspec": {
   "display_name": "Python 3",
   "language": "python",
   "name": "python3"
  },
  "language_info": {
   "codemirror_mode": {
    "name": "ipython",
    "version": 3
   },
   "file_extension": ".py",
   "mimetype": "text/x-python",
   "name": "python",
   "nbconvert_exporter": "python",
   "pygments_lexer": "ipython3",
   "version": "3.6.5"
  }
 },
 "nbformat": 4,
 "nbformat_minor": 2
}
